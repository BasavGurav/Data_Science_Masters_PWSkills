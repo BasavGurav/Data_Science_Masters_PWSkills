{
 "cells": [
  {
   "cell_type": "markdown",
   "id": "dfbfcd08-3e99-4b42-acee-2e57fed8830d",
   "metadata": {},
   "source": [
    "# **Assignment**"
   ]
  },
  {
   "cell_type": "markdown",
   "id": "6afdbb6a-04ba-4ed9-8047-55fd23a5184d",
   "metadata": {},
   "source": [
    "### Q1. Create a python program to sort the given list of tuples based on integer value using a lambda function."
   ]
  },
  {
   "cell_type": "markdown",
   "id": "07ebd1a6-0a00-4bce-9f65-c1dc44f04805",
   "metadata": {},
   "source": [
    "[('Sachin Tendulkar', 34357), ('Ricky Ponting', 27483), ('Jack Kallis', 25534), ('Virat Kohli', 24936)]"
   ]
  },
  {
   "cell_type": "code",
   "execution_count": 23,
   "id": "a651c228-1bd6-46b5-83a6-301944b0b738",
   "metadata": {},
   "outputs": [
    {
     "name": "stdout",
     "output_type": "stream",
     "text": [
      "Original given input\n",
      "[('Sachin Tendulkar', 34357), ('Ricky Ponting', 27483), ('Jack Kallis', 25534), ('Virat Kohli', 24936)]\n",
      "Sorted list\n",
      "[('Virat Kohli', 24936), ('Jack Kallis', 25534), ('Ricky Ponting', 27483), ('Sachin Tendulkar', 34357)]\n"
     ]
    }
   ],
   "source": [
    "input_list = [('Sachin Tendulkar', 34357), ('Ricky Ponting', 27483), ('Jack Kallis', 25534), ('Virat Kohli', 24936)]\n",
    "print (\"Original given input\")\n",
    "print (input_list)\n",
    "input_list.sort(key= lambda x:x[1])\n",
    "print (\"Sorted list\")\n",
    "print (input_list)"
   ]
  },
  {
   "cell_type": "markdown",
   "id": "39722240-390b-46cd-b96a-1d0ba4d82082",
   "metadata": {},
   "source": [
    "### Q2. Write a Python Program to find the squares of all the numbers in the given list of integers using lambda and map functions."
   ]
  },
  {
   "cell_type": "markdown",
   "id": "a815144f-2ec9-4edc-9205-22f5062a1246",
   "metadata": {},
   "source": [
    "[1, 2, 3, 4, 5, 6, 7, 8, 9, 10]"
   ]
  },
  {
   "cell_type": "code",
   "execution_count": 1,
   "id": "c5a3f4aa-7830-4ef2-b741-dd27060cb69d",
   "metadata": {},
   "outputs": [
    {
     "name": "stdout",
     "output_type": "stream",
     "text": [
      "[1, 4, 9, 16, 25, 36, 49, 64, 81, 100]\n"
     ]
    }
   ],
   "source": [
    "input_list = [1, 2, 3, 4, 5, 6, 7, 8, 9, 10]\n",
    "squared_list = list(map(lambda x: x**2, input_list))\n",
    "print (squared_list)"
   ]
  },
  {
   "cell_type": "markdown",
   "id": "ad2e84d2-082e-478d-a222-3e156b284d2f",
   "metadata": {},
   "source": [
    "### Q3. Write a python program to convert the given list of integers into a tuple of strings. Use map and lambda functions"
   ]
  },
  {
   "cell_type": "markdown",
   "id": "0817e39e-8d10-4482-b2a4-853c31fe585f",
   "metadata": {},
   "source": [
    "Given String: [1, 2, 3, 4, 5, 6, 7, 8, 9, 10]      \n",
    "Expected output: ('1', '2', '3', '4', '5', '6', '7', '8', '9', '10')"
   ]
  },
  {
   "cell_type": "code",
   "execution_count": 4,
   "id": "e9fd1c26-8a9b-47d7-ac77-294170ff3c56",
   "metadata": {},
   "outputs": [
    {
     "name": "stdout",
     "output_type": "stream",
     "text": [
      "('1', '2', '3', '4', '5', '6', '7', '8', '9', '10')\n"
     ]
    }
   ],
   "source": [
    "Given_list = [1, 2, 3, 4, 5, 6, 7, 8, 9, 10]\n",
    "tuple_output = tuple(map(lambda x: str(x), Given_list))\n",
    "print (tuple_output)"
   ]
  },
  {
   "cell_type": "markdown",
   "id": "4232b74e-e849-4358-bbb0-7c6ada2abc3f",
   "metadata": {},
   "source": [
    "### Q4. Write a python program using reduce function to compute the product of a list containing numbers from 1 to 25."
   ]
  },
  {
   "cell_type": "code",
   "execution_count": 9,
   "id": "dd8a40eb-922f-4873-a7d5-9ac5b42e8487",
   "metadata": {},
   "outputs": [
    {
     "name": "stdout",
     "output_type": "stream",
     "text": [
      "15511210043330985984000000\n"
     ]
    }
   ],
   "source": [
    "from functools import reduce\n",
    "product = reduce(lambda x,y: x*y, range(1,26))\n",
    "print (product)"
   ]
  },
  {
   "cell_type": "markdown",
   "id": "8062a2d9-ccaf-4783-9ac9-a26646823728",
   "metadata": {},
   "source": [
    "### Q5. Write a python program to filter the numbers in a given list that are divisible by 2 and 3 using the filter function."
   ]
  },
  {
   "cell_type": "markdown",
   "id": "a94ad7ee-e9b9-4d77-a85c-a6a241e98ee3",
   "metadata": {},
   "source": [
    "[2, 3, 6, 9, 27, 60, 90, 120, 55, 46]"
   ]
  },
  {
   "cell_type": "code",
   "execution_count": 18,
   "id": "f152ddcd-5e50-48c7-a161-d9cd74f17a3e",
   "metadata": {},
   "outputs": [
    {
     "name": "stdout",
     "output_type": "stream",
     "text": [
      "[6, 60, 90, 120]\n"
     ]
    }
   ],
   "source": [
    "input_list = [2, 3, 6, 9, 27, 60, 90, 120, 55, 46]\n",
    "output_list = list(filter(lambda x: x%2==0 and x%3==0, input_list))\n",
    "print (output_list)"
   ]
  },
  {
   "cell_type": "markdown",
   "id": "7f83e200-f186-4168-bafe-48a01e3c47e0",
   "metadata": {},
   "source": [
    "### Q6. Write a python program to find palindromes in the given list of strings using lambda and filter function."
   ]
  },
  {
   "cell_type": "markdown",
   "id": "5664a6fe-2a5f-4f51-9e08-abda23864db1",
   "metadata": {},
   "source": [
    "['python', 'php', 'aba', 'radar', 'level']"
   ]
  },
  {
   "cell_type": "code",
   "execution_count": 22,
   "id": "04020004-1261-4b81-987f-fe3ae3bd8498",
   "metadata": {},
   "outputs": [
    {
     "name": "stdout",
     "output_type": "stream",
     "text": [
      "['php', 'aba', 'radar', 'level']\n"
     ]
    }
   ],
   "source": [
    "input_list = ['python', 'php', 'aba', 'radar', 'level']\n",
    "palindrome = list(filter(lambda x: x==x[::-1], input_list))\n",
    "print (palindrome)"
   ]
  }
 ],
 "metadata": {
  "kernelspec": {
   "display_name": "Python 3 (ipykernel)",
   "language": "python",
   "name": "python3"
  },
  "language_info": {
   "codemirror_mode": {
    "name": "ipython",
    "version": 3
   },
   "file_extension": ".py",
   "mimetype": "text/x-python",
   "name": "python",
   "nbconvert_exporter": "python",
   "pygments_lexer": "ipython3",
   "version": "3.10.8"
  }
 },
 "nbformat": 4,
 "nbformat_minor": 5
}
