{
 "cells": [
  {
   "cell_type": "markdown",
   "id": "9e306cbb-8082-44fb-a9e0-98c13beb9a79",
   "metadata": {
    "tags": []
   },
   "source": [
    " # **Assignment-1**"
   ]
  },
  {
   "cell_type": "markdown",
   "id": "ad3e6170-8484-45d6-ae10-f4f1bb2a88e2",
   "metadata": {},
   "source": [
    " ## Q1. Create one variable containing following type of data:\n",
    "(i) string\n",
    "(ii) list\n",
    "(iii) float\n",
    "(iv) tuple"
   ]
  },
  {
   "cell_type": "code",
   "execution_count": 1,
   "id": "100f4faa-9f1d-4faa-ada7-a9fce08df74a",
   "metadata": {},
   "outputs": [],
   "source": [
    "#String\n",
    "str1 = \"Hello world\"\n",
    "list1 = ['Hello', 'world', 1, 2, 'python', ['PW', \"Skills\"], 23.23]\n",
    "float1 = 12.23\n",
    "tuple1 = ('Hello', 'world', 1, 2, 'python', ['PW', \"Skills\"], 23.23)"
   ]
  },
  {
   "cell_type": "markdown",
   "id": "ea02d742-a67e-453b-94f5-291e8c8941bb",
   "metadata": {},
   "source": [
    "## Q2. Given are some following variables containing data:\n",
    "(i) var1 = ‘ ‘        \n",
    "(ii) var2 = ‘[ DS , ML , Python]’     \n",
    "(iii) var3 = [ ‘DS’ , ’ML’ , ‘Python’ ]     \n",
    "(iv) var4 = 1.\n",
    "\n",
    "What will be the data type of the above given variable."
   ]
  },
  {
   "cell_type": "markdown",
   "id": "31c9f996-a593-4e9d-b8fb-fc99bd751a43",
   "metadata": {},
   "source": [
    " ## Answers: \n",
    "var1 = string\n",
    "var2 = string\n",
    "var3 = list\n",
    "var4 = float"
   ]
  },
  {
   "cell_type": "code",
   "execution_count": 5,
   "id": "dec29f38-c900-4be9-abb8-afe8a11d76ae",
   "metadata": {},
   "outputs": [
    {
     "data": {
      "text/plain": [
       "str"
      ]
     },
     "execution_count": 5,
     "metadata": {},
     "output_type": "execute_result"
    }
   ],
   "source": [
    "var1 = ''\n",
    "type (var1)"
   ]
  },
  {
   "cell_type": "code",
   "execution_count": 8,
   "id": "40ed315c-c5be-41d3-ab18-d30e0f039513",
   "metadata": {},
   "outputs": [
    {
     "data": {
      "text/plain": [
       "str"
      ]
     },
     "execution_count": 8,
     "metadata": {},
     "output_type": "execute_result"
    }
   ],
   "source": [
    "var2 = '[DS , ML , Python]'\n",
    "type (var2)"
   ]
  },
  {
   "cell_type": "code",
   "execution_count": 11,
   "id": "2db26741-ba93-4677-a739-8a3cf67c78e1",
   "metadata": {},
   "outputs": [
    {
     "data": {
      "text/plain": [
       "list"
      ]
     },
     "execution_count": 11,
     "metadata": {},
     "output_type": "execute_result"
    }
   ],
   "source": [
    "var3 = ['DS', 'ML', 'Python']\n",
    "type (var3)"
   ]
  },
  {
   "cell_type": "code",
   "execution_count": 12,
   "id": "611ef6f7-7add-4e60-bdc5-3176307abc4c",
   "metadata": {},
   "outputs": [
    {
     "data": {
      "text/plain": [
       "float"
      ]
     },
     "execution_count": 12,
     "metadata": {},
     "output_type": "execute_result"
    }
   ],
   "source": [
    "var4 = 1.\n",
    "type(var4)"
   ]
  },
  {
   "cell_type": "markdown",
   "id": "2549226a-5a92-4ac8-8d66-1d92fca83e79",
   "metadata": {},
   "source": [
    "## Q3. Explain the use of the following operators using an example:\n",
    "(i) /\n",
    "(ii) %\n",
    "(iii) //\n",
    "(iv) **"
   ]
  },
  {
   "cell_type": "markdown",
   "id": "018480dc-97cd-471f-a053-bd2bf4fc27bc",
   "metadata": {},
   "source": [
    "/ is devison operator  \n",
    "it gives the division of the two numbers"
   ]
  },
  {
   "cell_type": "code",
   "execution_count": 14,
   "id": "0d45c0da-dcf2-4d4d-a3b2-4b7fd061549c",
   "metadata": {},
   "outputs": [
    {
     "data": {
      "text/plain": [
       "0.9230769230769231"
      ]
     },
     "execution_count": 14,
     "metadata": {},
     "output_type": "execute_result"
    }
   ],
   "source": [
    "12/13"
   ]
  },
  {
   "cell_type": "markdown",
   "id": "478e0e0c-6fcb-480a-9b6a-79ff0a316a6b",
   "metadata": {},
   "source": [
    "% is a madulo/modulus operator it gives the reminder after dividing the two numbers"
   ]
  },
  {
   "cell_type": "code",
   "execution_count": 16,
   "id": "ba183783-1229-4794-8c5b-ee3b4a92b7ff",
   "metadata": {},
   "outputs": [
    {
     "data": {
      "text/plain": [
       "1"
      ]
     },
     "execution_count": 16,
     "metadata": {},
     "output_type": "execute_result"
    }
   ],
   "source": [
    "13%12"
   ]
  },
  {
   "cell_type": "markdown",
   "id": "d763033f-0bb7-42e3-9325-428d63215053",
   "metadata": {},
   "source": [
    "// is a Floor divison operator it gives the quotient after dividing the numbers"
   ]
  },
  {
   "cell_type": "code",
   "execution_count": 18,
   "id": "5f5404a3-580e-47be-83d8-5d5cf1a0447a",
   "metadata": {},
   "outputs": [
    {
     "data": {
      "text/plain": [
       "2"
      ]
     },
     "execution_count": 18,
     "metadata": {},
     "output_type": "execute_result"
    }
   ],
   "source": [
    "25//12"
   ]
  },
  {
   "cell_type": "markdown",
   "id": "584beca1-a004-4ab3-93e7-96076a388663",
   "metadata": {},
   "source": [
    "** Exponentiation operator, it gives the exponent of the number"
   ]
  },
  {
   "cell_type": "code",
   "execution_count": 19,
   "id": "7c4d9486-3097-4c49-8dc3-2e179aaa6d42",
   "metadata": {},
   "outputs": [
    {
     "data": {
      "text/plain": [
       "8"
      ]
     },
     "execution_count": 19,
     "metadata": {},
     "output_type": "execute_result"
    }
   ],
   "source": [
    "2**3"
   ]
  },
  {
   "cell_type": "markdown",
   "id": "90a65c53-23fa-4862-a0cf-4546371091e0",
   "metadata": {},
   "source": [
    "## Q4. Create a list of length 10 of your choice containing multiple types of data. Using for loop print the element and its data type."
   ]
  },
  {
   "cell_type": "code",
   "execution_count": 20,
   "id": "ab343976-6087-4521-8690-9377c10d3b28",
   "metadata": {},
   "outputs": [],
   "source": [
    "list1 = ['Hello', 'world', 1, 2, 'python', ['PW', \"Skills\"], 23.23, {'Hi':\"Hello\"}, 25, True]"
   ]
  },
  {
   "cell_type": "code",
   "execution_count": 22,
   "id": "92441a96-805d-4bda-8c20-bfca07170751",
   "metadata": {},
   "outputs": [
    {
     "name": "stdout",
     "output_type": "stream",
     "text": [
      "Hello <class 'str'>\n",
      "world <class 'str'>\n",
      "1 <class 'int'>\n",
      "2 <class 'int'>\n",
      "python <class 'str'>\n",
      "['PW', 'Skills'] <class 'list'>\n",
      "23.23 <class 'float'>\n",
      "{'Hi': 'Hello'} <class 'dict'>\n",
      "25 <class 'int'>\n",
      "True <class 'bool'>\n"
     ]
    }
   ],
   "source": [
    "for i in list1:\n",
    "    print (i, type(i))"
   ]
  },
  {
   "cell_type": "markdown",
   "id": "2f79991b-3a89-4068-8c31-0b5f45e1d713",
   "metadata": {},
   "source": [
    "## Q5. Using a while loop, verify if the number A is purely divisible by number B and if so then how many times it can be divisible."
   ]
  },
  {
   "cell_type": "code",
   "execution_count": 25,
   "id": "d2515f4d-5e12-41e6-b417-b49377601f66",
   "metadata": {},
   "outputs": [
    {
     "name": "stdout",
     "output_type": "stream",
     "text": [
      "A is divisible by B by 5 times\n"
     ]
    }
   ],
   "source": [
    "a = 100\n",
    "b = 20\n",
    "while a%b ==0:\n",
    "    print (\"A is divisible by B by {} times\".format(a//b))\n",
    "    break"
   ]
  },
  {
   "cell_type": "markdown",
   "id": "acc7ef6a-2bfc-4554-b272-718d02156a27",
   "metadata": {},
   "source": [
    "## Q6. Create a list containing 25 int type data. Using for loop and if-else condition print if the element is divisible by 3 or not."
   ]
  },
  {
   "cell_type": "code",
   "execution_count": 26,
   "id": "7f3dd20e-52d9-4acc-9a52-fbdfa229e5d1",
   "metadata": {},
   "outputs": [
    {
     "name": "stdout",
     "output_type": "stream",
     "text": [
      "0\n",
      "3\n",
      "6\n",
      "9\n",
      "12\n",
      "15\n",
      "18\n",
      "21\n",
      "24\n"
     ]
    }
   ],
   "source": [
    "list1 = list(range(25))\n",
    "for i in list1:\n",
    "    if i%3==0:\n",
    "        print (i)"
   ]
  },
  {
   "cell_type": "markdown",
   "id": "7bc2cd11-a558-412a-b23e-b682ae7f7da0",
   "metadata": {},
   "source": [
    "## Q7. What do you understand about mutable and immutable data types? Give examples for both showing this property."
   ]
  },
  {
   "cell_type": "markdown",
   "id": "ea4f748c-1497-41ee-9cdd-9f1176ca0821",
   "metadata": {},
   "source": [
    "Mutable means item level assignment is possible, at element we can assign the new values. "
   ]
  },
  {
   "cell_type": "code",
   "execution_count": 27,
   "id": "80af7d1f-eec2-4c1d-b049-75333ad4f643",
   "metadata": {},
   "outputs": [
    {
     "name": "stdout",
     "output_type": "stream",
     "text": [
      "Original list  ['Hello', 'world', 1, 2, 'python', ['PW', 'Skills'], 23.23, {'Hi': 'Hello'}, 25, True]\n",
      "Updated list ['Hello', 'world', 'ML', 2, 'python', ['PW', 'Skills'], 23.23, {'Hi': 'Hello'}, 25, True]\n"
     ]
    }
   ],
   "source": [
    "list1 = ['Hello', 'world', 1, 2, 'python', ['PW', \"Skills\"], 23.23, {'Hi':\"Hello\"}, 25, True]\n",
    "print (\"Original list \", list1)\n",
    "list1[2] = \"ML\"\n",
    "print (\"Updated list\", list1)"
   ]
  },
  {
   "cell_type": "markdown",
   "id": "6dd93935-fd46-46af-a583-b70be4a8f392",
   "metadata": {},
   "source": [
    "immutable means item level assignment is not possible, at element level iswe can assign the new values. "
   ]
  },
  {
   "cell_type": "code",
   "execution_count": null,
   "id": "22a67fff-d8e2-4dcb-8893-0f22b204e4ea",
   "metadata": {},
   "outputs": [],
   "source": []
  }
 ],
 "metadata": {
  "kernelspec": {
   "display_name": "Python 3 (ipykernel)",
   "language": "python",
   "name": "python3"
  },
  "language_info": {
   "codemirror_mode": {
    "name": "ipython",
    "version": 3
   },
   "file_extension": ".py",
   "mimetype": "text/x-python",
   "name": "python",
   "nbconvert_exporter": "python",
   "pygments_lexer": "ipython3",
   "version": "3.10.8"
  }
 },
 "nbformat": 4,
 "nbformat_minor": 5
}
