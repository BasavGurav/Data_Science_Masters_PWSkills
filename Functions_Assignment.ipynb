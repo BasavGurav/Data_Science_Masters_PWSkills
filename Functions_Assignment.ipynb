{
 "cells": [
  {
   "cell_type": "markdown",
   "id": "e853b0a0-ce82-4716-9cac-3bd33c6b643d",
   "metadata": {},
   "source": [
    "# **Assignment**"
   ]
  },
  {
   "cell_type": "markdown",
   "id": "e2fa6aa0-ead4-4250-aa53-c2d8bb12ce67",
   "metadata": {},
   "source": [
    "## Q1. Which keyword is used to create a function? Create a function to return a list of odd numbers in the range of 1 to 25."
   ]
  },
  {
   "cell_type": "markdown",
   "id": "3790f14c-690a-402d-b151-170502505bd7",
   "metadata": {},
   "source": [
    "def key word is used to create the function"
   ]
  },
  {
   "cell_type": "code",
   "execution_count": 1,
   "id": "461fb31c-c624-4720-8733-0642a213dc8d",
   "metadata": {},
   "outputs": [],
   "source": [
    "def odd_numbers():\n",
    "    list_odd_num = []\n",
    "    for i in range(1,26):\n",
    "        if i%2 != 0:\n",
    "            list_odd_num.append(i)\n",
    "    return list_odd_num"
   ]
  },
  {
   "cell_type": "code",
   "execution_count": 2,
   "id": "256a1c47-c023-4403-b322-e0ed5c3aea3b",
   "metadata": {},
   "outputs": [
    {
     "data": {
      "text/plain": [
       "[1, 3, 5, 7, 9, 11, 13, 15, 17, 19, 21, 23, 25]"
      ]
     },
     "execution_count": 2,
     "metadata": {},
     "output_type": "execute_result"
    }
   ],
   "source": [
    "odd_numbers()"
   ]
  },
  {
   "cell_type": "markdown",
   "id": "f04846e7-9cd6-4e52-8c63-453cde80ca96",
   "metadata": {},
   "source": [
    "## Q2. Why *args and **kwargs is used in some functions? Create a function each for *args and **kwargs to demonstrate their use. "
   ]
  },
  {
   "cell_type": "markdown",
   "id": "6b2c8f16-f4c0-476e-afed-b55f16350f30",
   "metadata": {},
   "source": [
    "*args and **kwargs are used in the defintion of the functions, when the requirement is to supply the list of the arguments. For *args it is plain list of arguemnts of any type and for **kwargs input should be in key and value pair.When the exact list of arguments are not known in advance that time, *args and **kwargs are very useful. "
   ]
  },
  {
   "cell_type": "markdown",
   "id": "dde0bcad-d8ed-4782-863d-bceb33a1a827",
   "metadata": {},
   "source": [
    "### Create the function which takes the list of students as the input and find out the number of sudents in the class"
   ]
  },
  {
   "cell_type": "code",
   "execution_count": 3,
   "id": "5efa1504-0f01-412b-a15b-77393537a32d",
   "metadata": {},
   "outputs": [],
   "source": [
    "def students(*args):\n",
    "    return len(args)"
   ]
  },
  {
   "cell_type": "code",
   "execution_count": 5,
   "id": "f0d014f8-daf0-47d9-a2fc-8d97956dcc97",
   "metadata": {},
   "outputs": [
    {
     "data": {
      "text/plain": [
       "5"
      ]
     },
     "execution_count": 5,
     "metadata": {},
     "output_type": "execute_result"
    }
   ],
   "source": [
    "students('Basav', 'Shivu', 'Abhi', 'Sharath', 'Praveen')"
   ]
  },
  {
   "cell_type": "code",
   "execution_count": 6,
   "id": "a66704ff-371d-46a0-b643-836a8401529b",
   "metadata": {},
   "outputs": [
    {
     "data": {
      "text/plain": [
       "2"
      ]
     },
     "execution_count": 6,
     "metadata": {},
     "output_type": "execute_result"
    }
   ],
   "source": [
    "students('Basav', 'Shivu')"
   ]
  },
  {
   "cell_type": "markdown",
   "id": "93d88b6d-4a88-43e9-8006-02a96a16c729",
   "metadata": {},
   "source": [
    "### Create the function which takes Student name and marks in the subject and display the student with the maximum marks in that subject"
   ]
  },
  {
   "cell_type": "code",
   "execution_count": 10,
   "id": "51b8b7a5-01d8-4338-b3c7-077172be267d",
   "metadata": {},
   "outputs": [],
   "source": [
    "def max_marks(**kwargs):\n",
    "    max = 0\n",
    "    for student in kwargs.keys():\n",
    "        if kwargs[student]>max:\n",
    "            max = kwargs[student]\n",
    "            name = student\n",
    "    return name, max"
   ]
  },
  {
   "cell_type": "code",
   "execution_count": 11,
   "id": "dc9d6ed1-7ed3-403f-9401-da8302dacc23",
   "metadata": {},
   "outputs": [
    {
     "data": {
      "text/plain": [
       "('basav', 90)"
      ]
     },
     "execution_count": 11,
     "metadata": {},
     "output_type": "execute_result"
    }
   ],
   "source": [
    "max_marks(basav=90, shivu=85, sharath=78)"
   ]
  },
  {
   "cell_type": "code",
   "execution_count": 12,
   "id": "2adfac21-27fd-48a7-a0c0-cdd39a4a8d77",
   "metadata": {},
   "outputs": [
    {
     "data": {
      "text/plain": [
       "('shivu', 95)"
      ]
     },
     "execution_count": 12,
     "metadata": {},
     "output_type": "execute_result"
    }
   ],
   "source": [
    "max_marks(basav=85, shivu=95, sharath=94)"
   ]
  },
  {
   "cell_type": "markdown",
   "id": "b4dfc661-6618-4805-83d6-67ae51e5eaa0",
   "metadata": {},
   "source": [
    "### Q3. What is an iterator in python? Name the method used to initialise the iterator object and the method used for iteration. Use these methods to print the first five elements of the given list [2, 4, 6, 8, 10, 12, 14, 16, 18, 20]."
   ]
  },
  {
   "cell_type": "markdown",
   "id": "853e8aa8-b09e-4586-afa5-978d6b46ade1",
   "metadata": {},
   "source": [
    "Iterator is an obeject that contains countable number of values. With the iterator object its possible to iterate through the collection of data types like list, tuple, sets and dictionary"
   ]
  },
  {
   "cell_type": "code",
   "execution_count": null,
   "id": "20e1585b-9e10-4c07-bc13-c92e33cc601f",
   "metadata": {},
   "outputs": [],
   "source": [
    "method used to initialise the iterator object -> __iter__()"
   ]
  },
  {
   "cell_type": "code",
   "execution_count": null,
   "id": "db1311c7-889d-4fed-b14f-2b905eecb30e",
   "metadata": {},
   "outputs": [],
   "source": [
    "the method used for iteration is -> __next__() "
   ]
  },
  {
   "cell_type": "code",
   "execution_count": 2,
   "id": "ee2a4466-aad7-486c-b610-8f4f9b611c1d",
   "metadata": {},
   "outputs": [
    {
     "name": "stdout",
     "output_type": "stream",
     "text": [
      "2\n",
      "4\n",
      "6\n",
      "8\n",
      "10\n"
     ]
    }
   ],
   "source": [
    "#print the first five elements\n",
    "input_list = [2, 4, 6, 8, 10, 12, 14, 16, 18, 20]\n",
    "inter_list =iter(input_list)\n",
    "print (next(inter_list))\n",
    "print (next(inter_list))\n",
    "print (next(inter_list))\n",
    "print (next(inter_list))\n",
    "print (next(inter_list))"
   ]
  },
  {
   "cell_type": "markdown",
   "id": "a99cb6db-8bb9-43a0-ae2c-57f4560ed5bb",
   "metadata": {},
   "source": [
    "### Q4. What is a generator function in python? Why yield keyword is used? Give an example of a generator function."
   ]
  },
  {
   "cell_type": "markdown",
   "id": "037e4724-81bb-4f6a-bcf9-d65395826e2c",
   "metadata": {},
   "source": [
    "Generator function allows to declare a function that behaves like an iterator. Providing easy and faster way to create the iterator. They can be used on an abstarct container of data to turn it into an iterable object list, dictionary, tuple and strings "
   ]
  },
  {
   "cell_type": "markdown",
   "id": "25b80ff7-ef3d-411f-906d-fcc5ae66c2cc",
   "metadata": {},
   "source": [
    "Yield is used when we want to iterate through the sequence but dont want to store the entire sequence in the memory. \n",
    "Creating the generator function is same as normal function. But instead of return, yield keyword should be used to create the generator function. "
   ]
  },
  {
   "cell_type": "markdown",
   "id": "dbc6c009-4c1b-49d4-b4c3-875d89037a7c",
   "metadata": {},
   "source": [
    "Example for the generator function is very famous range function. To get the values out of the range function we need iterate through the range function"
   ]
  },
  {
   "cell_type": "code",
   "execution_count": 4,
   "id": "235b98a3-9620-41c3-b9f6-80956055dbc0",
   "metadata": {},
   "outputs": [
    {
     "name": "stdout",
     "output_type": "stream",
     "text": [
      "range(0, 10)\n"
     ]
    }
   ],
   "source": [
    "range(10)\n",
    "print (range(10))"
   ]
  },
  {
   "cell_type": "code",
   "execution_count": 5,
   "id": "59d6b738-fa39-4fd7-be91-e409de2067fb",
   "metadata": {},
   "outputs": [
    {
     "name": "stdout",
     "output_type": "stream",
     "text": [
      "0\n",
      "1\n",
      "2\n",
      "3\n",
      "4\n",
      "5\n",
      "6\n",
      "7\n",
      "8\n",
      "9\n"
     ]
    }
   ],
   "source": [
    "for i in range(10):\n",
    "    print (i)"
   ]
  },
  {
   "cell_type": "markdown",
   "id": "e9a8045c-e595-4952-b2aa-b55ed277bbca",
   "metadata": {},
   "source": [
    "### Q5. Create a generator function for prime numbers less than 1000. Use the next() method to print the first 20 prime numbers."
   ]
  },
  {
   "cell_type": "code",
   "execution_count": 17,
   "id": "733d4c82-d822-449f-8bd9-02f40ac04884",
   "metadata": {},
   "outputs": [],
   "source": [
    "def prime_num(n):\n",
    "    prime_num = []\n",
    "    for i in range(1,n):\n",
    "        prime = True\n",
    "        for j in range(2,i):\n",
    "            \n",
    "            if i%j==0:\n",
    "                prime = False\n",
    "                break\n",
    "        if prime:\n",
    "            yield i"
   ]
  },
  {
   "cell_type": "code",
   "execution_count": 26,
   "id": "6d828fc4-39c8-4998-89ce-a7dac87de3bd",
   "metadata": {},
   "outputs": [
    {
     "name": "stdout",
     "output_type": "stream",
     "text": [
      "1\n",
      "2\n",
      "3\n",
      "5\n",
      "7\n",
      "11\n",
      "13\n",
      "17\n",
      "19\n",
      "23\n",
      "29\n",
      "31\n",
      "37\n",
      "41\n",
      "43\n",
      "47\n",
      "53\n",
      "59\n",
      "61\n",
      "67\n"
     ]
    }
   ],
   "source": [
    "prime_iter = prime_num(1000)\n",
    "print (next(prime_iter))\n",
    "print (next(prime_iter))\n",
    "print (next(prime_iter))\n",
    "print (next(prime_iter))\n",
    "print (next(prime_iter))\n",
    "print (next(prime_iter))\n",
    "print (next(prime_iter))\n",
    "print (next(prime_iter))\n",
    "print (next(prime_iter))\n",
    "print (next(prime_iter))\n",
    "print (next(prime_iter))\n",
    "print (next(prime_iter))\n",
    "print (next(prime_iter))\n",
    "print (next(prime_iter))\n",
    "print (next(prime_iter))\n",
    "print (next(prime_iter))\n",
    "print (next(prime_iter))\n",
    "print (next(prime_iter))\n",
    "print (next(prime_iter))\n",
    "print (next(prime_iter))"
   ]
  }
 ],
 "metadata": {
  "kernelspec": {
   "display_name": "Python 3 (ipykernel)",
   "language": "python",
   "name": "python3"
  },
  "language_info": {
   "codemirror_mode": {
    "name": "ipython",
    "version": 3
   },
   "file_extension": ".py",
   "mimetype": "text/x-python",
   "name": "python",
   "nbconvert_exporter": "python",
   "pygments_lexer": "ipython3",
   "version": "3.10.8"
  }
 },
 "nbformat": 4,
 "nbformat_minor": 5
}
