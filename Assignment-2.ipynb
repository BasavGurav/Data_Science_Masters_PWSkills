{
 "cells": [
  {
   "cell_type": "markdown",
   "id": "ffc3dc05-8ab4-4117-98ee-cc9fe66a5d48",
   "metadata": {},
   "source": [
    "# Assignment-2"
   ]
  },
  {
   "cell_type": "markdown",
   "id": "1dd50090-16a1-43e2-bcd7-b476f41b0428",
   "metadata": {},
   "source": [
    "## Q1. How do you comment code in Python? What are the different types of comments?"
   ]
  },
  {
   "cell_type": "markdown",
   "id": "89f70dda-a910-4219-9a0f-ea6bc394f7f3",
   "metadata": {},
   "source": [
    "Different types of comments:                     \n",
    "1)single line commenting - This can be done by using \"#\"     \n",
    "2)multi line commenting - This can be done by keeping the line in the 3 quotes.  ''' ''' "
   ]
  },
  {
   "cell_type": "code",
   "execution_count": 3,
   "id": "94233b1a-3fd0-4262-88a7-6593ca526e81",
   "metadata": {},
   "outputs": [],
   "source": [
    "#this is single line commenting"
   ]
  },
  {
   "cell_type": "code",
   "execution_count": 7,
   "id": "d4e50322-f9e0-4ce2-b77b-4cdcf998a7dd",
   "metadata": {},
   "outputs": [
    {
     "data": {
      "text/plain": [
       "'this is the \\nmulti commenting'"
      ]
     },
     "execution_count": 7,
     "metadata": {},
     "output_type": "execute_result"
    }
   ],
   "source": [
    "'''this is the \n",
    "multi commenting'''"
   ]
  },
  {
   "cell_type": "markdown",
   "id": "f6cc220a-6cc5-487e-a843-d964f3c0f774",
   "metadata": {},
   "source": [
    "## Q2. What are variables in Python? How do you declare and assign values to variables?"
   ]
  },
  {
   "cell_type": "markdown",
   "id": "84921cd8-2ea0-47e4-abdf-05ace7140298",
   "metadata": {},
   "source": [
    "variable is symbolic name that is reference or pointer to an object"
   ]
  },
  {
   "cell_type": "code",
   "execution_count": 14,
   "id": "4269656c-ade3-44ce-b240-88fd517d32bc",
   "metadata": {},
   "outputs": [
    {
     "name": "stdout",
     "output_type": "stream",
     "text": [
      "value of variable is 100 and its datatype of the variable is <class 'int'>\n"
     ]
    }
   ],
   "source": [
    "#Declaring and Assigning values to the variable X\n",
    "# X is varibale of int data type\n",
    "X = 100\n",
    "print( f\"value of variable is {X} and its datatype of the variable is {type(X)}\")"
   ]
  },
  {
   "cell_type": "markdown",
   "id": "e0d61465-4c7c-42e6-80e0-68b27b04cfac",
   "metadata": {},
   "source": [
    "## Q3. How do you convert one data type to another in Python?"
   ]
  },
  {
   "cell_type": "code",
   "execution_count": 16,
   "id": "39a0258f-1440-46c9-8e5b-ddfd28757018",
   "metadata": {},
   "outputs": [
    {
     "name": "stdout",
     "output_type": "stream",
     "text": [
      "value of variable is 78 and its datatype of the variable is <class 'str'>\n"
     ]
    }
   ],
   "source": [
    "#int to str\n",
    "X = 78\n",
    "str_X = str(X)\n",
    "print( f\"value of variable is {str_X} and its datatype of the variable is {type(str_X)}\")"
   ]
  },
  {
   "cell_type": "code",
   "execution_count": 17,
   "id": "8d32b060-ccd0-49ce-a821-0e32b7bb654e",
   "metadata": {},
   "outputs": [
    {
     "name": "stdout",
     "output_type": "stream",
     "text": [
      "value of variable is 10.0 and its datatype of the variable is <class 'float'>\n"
     ]
    }
   ],
   "source": [
    "#int to float\n",
    "X=10\n",
    "float_X = float(X)\n",
    "print( f\"value of variable is {float_X} and its datatype of the variable is {type(float_X)}\")"
   ]
  },
  {
   "cell_type": "markdown",
   "id": "dfe45222-f043-4fdb-a833-5cfe66fb73dd",
   "metadata": {},
   "source": [
    "## Q4. How do you write and execute a Python script from the command line?"
   ]
  },
  {
   "cell_type": "markdown",
   "id": "5117b2a8-83f2-41bd-ad67-37cb257e72fa",
   "metadata": {},
   "source": [
    "Python script can be executed from the command line \n",
    "by calling the \"p then full path of the python scipt then running the command line. "
   ]
  },
  {
   "cell_type": "code",
   "execution_count": null,
   "id": "e967fde7-9d2c-4269-8968-2a2615cfc4e2",
   "metadata": {},
   "outputs": [],
   "source": [
    "python Hello_world.py #this has to be executed in the coomand line"
   ]
  },
  {
   "cell_type": "markdown",
   "id": "3405d3ca-af2b-4209-a7e5-f53b8fa7382c",
   "metadata": {},
   "source": [
    "## Q5. Given a list my_list = [1, 2, 3, 4, 5], write the code to slice the list and obtain the sub-list [2, 3]."
   ]
  },
  {
   "cell_type": "code",
   "execution_count": 32,
   "id": "a6e4b97d-e822-41f8-98c8-c0fa8b9ef104",
   "metadata": {},
   "outputs": [],
   "source": [
    "my_list = [1, 2, 3, 4, 5]"
   ]
  },
  {
   "cell_type": "code",
   "execution_count": 19,
   "id": "dc68a893-4638-4c19-ba62-02b13223ba06",
   "metadata": {},
   "outputs": [
    {
     "name": "stdout",
     "output_type": "stream",
     "text": [
      "[2, 3]\n"
     ]
    }
   ],
   "source": [
    "sub_list = my_list[1:3]\n",
    "print (sub_list)"
   ]
  },
  {
   "cell_type": "markdown",
   "id": "b8f39449-d771-4f11-8e33-b18b149f54a5",
   "metadata": {},
   "source": [
    "## Q6. What is a complex number in mathematics, and how is it represented in Python?"
   ]
  },
  {
   "cell_type": "markdown",
   "id": "f977906b-80d4-4d51-a74d-b97f1fe3f873",
   "metadata": {},
   "source": [
    "Complex number is a combination of the real number and a imaginary number. In mathematics it is represented as real part and a imaginary part. For exp: 5+10i,  5 is real value and 10 is imaginary value"
   ]
  },
  {
   "cell_type": "code",
   "execution_count": 31,
   "id": "19fe8aa9-e1ed-48bf-8bda-40af3018aba2",
   "metadata": {},
   "outputs": [
    {
     "name": "stdout",
     "output_type": "stream",
     "text": [
      "the datatype of the price variable is <class 'complex'>\n"
     ]
    }
   ],
   "source": [
    "complex_num = 2+3J\n",
    "print (f\"the datatype of the price variable is {type(complex_num)}\")"
   ]
  },
  {
   "cell_type": "markdown",
   "id": "307e7144-49c5-41a2-9919-00924260a056",
   "metadata": {},
   "source": [
    "## Q7. What is the correct way to declare a variable named age and assign the value 25 to it?"
   ]
  },
  {
   "cell_type": "code",
   "execution_count": 20,
   "id": "0b0c2b5f-c4e0-4e6b-8c30-b5298b32a4fe",
   "metadata": {},
   "outputs": [],
   "source": [
    "age = 25"
   ]
  },
  {
   "cell_type": "markdown",
   "id": "06b00a78-b22b-4f07-8f53-a12dacb25a42",
   "metadata": {},
   "source": [
    "## Q8. Declare a variable named price and assign the value 9.99 to it. What data type does this variable belong to?"
   ]
  },
  {
   "cell_type": "code",
   "execution_count": 23,
   "id": "b62de2cb-f15f-4d56-a211-6916f07e1e2d",
   "metadata": {},
   "outputs": [
    {
     "name": "stdout",
     "output_type": "stream",
     "text": [
      "the datatype of the price variable is <class 'float'>\n"
     ]
    }
   ],
   "source": [
    "price = 9.99\n",
    "print (f\"the datatype of the price variable is {type(price)}\")"
   ]
  },
  {
   "cell_type": "markdown",
   "id": "7c0dbd9c-9fec-432c-aac7-a90bb93d11ac",
   "metadata": {},
   "source": [
    "## Q9. Create a variable named name and assign your full name to it as a string. How would you print the value of this variable?"
   ]
  },
  {
   "cell_type": "code",
   "execution_count": 24,
   "id": "81dcfebf-0319-46ed-8dbe-cb9f80731f8f",
   "metadata": {},
   "outputs": [
    {
     "name": "stdout",
     "output_type": "stream",
     "text": [
      "Basavaraj Shivalingappa Gurav\n"
     ]
    }
   ],
   "source": [
    "name = \"Basavaraj Shivalingappa Gurav\"\n",
    "print (name)"
   ]
  },
  {
   "cell_type": "markdown",
   "id": "d3545bf5-4f39-4725-a60a-cb968ad17fe0",
   "metadata": {},
   "source": [
    "## Q10. Given the string \"Hello, World!\", extract the substring \"World\"."
   ]
  },
  {
   "cell_type": "code",
   "execution_count": 27,
   "id": "2ffb84ea-3180-486e-a6b9-921f15c03a04",
   "metadata": {},
   "outputs": [
    {
     "name": "stdout",
     "output_type": "stream",
     "text": [
      "World\n"
     ]
    }
   ],
   "source": [
    "input_string = \"Hello, World\"\n",
    "sub_string = input_string[7:]\n",
    "print (sub_string)"
   ]
  },
  {
   "cell_type": "markdown",
   "id": "9053e384-49d9-4a97-bb8e-3578ccc0229c",
   "metadata": {},
   "source": [
    "## Q11. Create a variable named \"is_student\" and assign it a boolean value indicating whether you are currently a student or not."
   ]
  },
  {
   "cell_type": "code",
   "execution_count": null,
   "id": "87817221-66d1-47f4-a11f-4e30ce2cbfa7",
   "metadata": {},
   "outputs": [],
   "source": [
    "#if student: \n",
    "is_student = True\n",
    "#if not a student:\n",
    "is_student = False"
   ]
  }
 ],
 "metadata": {
  "kernelspec": {
   "display_name": "Python 3 (ipykernel)",
   "language": "python",
   "name": "python3"
  },
  "language_info": {
   "codemirror_mode": {
    "name": "ipython",
    "version": 3
   },
   "file_extension": ".py",
   "mimetype": "text/x-python",
   "name": "python",
   "nbconvert_exporter": "python",
   "pygments_lexer": "ipython3",
   "version": "3.10.8"
  }
 },
 "nbformat": 4,
 "nbformat_minor": 5
}
