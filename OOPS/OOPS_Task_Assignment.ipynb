{
 "cells": [
  {
   "cell_type": "markdown",
   "id": "d8fbbafb-7b17-4fd7-aef2-adfb480561d6",
   "metadata": {},
   "source": [
    "# OOPS Task Assignement"
   ]
  },
  {
   "cell_type": "markdown",
   "id": "1be503f0-7331-4b9c-80ba-15afb4ff1dd5",
   "metadata": {},
   "source": [
    "## Q1, Create a vehicle class with an init method having instance variables as name_of_vehicle, max_speed and average_of_vehicle."
   ]
  },
  {
   "cell_type": "code",
   "execution_count": 3,
   "id": "74d9a7fd-7f60-4fec-a47e-7180190c4c0e",
   "metadata": {},
   "outputs": [],
   "source": [
    "class vehicle:\n",
    "    \n",
    "    def __init__(self, name_of_vehicle,max_speed,average_of_vehicle):\n",
    "        self.name_of_vehicle = name_of_vehicle\n",
    "        self.max_speed = max_speed\n",
    "        self.average_of_vehicle = average_of_vehicle"
   ]
  },
  {
   "cell_type": "code",
   "execution_count": 4,
   "id": "143fb64a-8e2f-45a3-9e98-84cde2a1f974",
   "metadata": {},
   "outputs": [],
   "source": [
    "vehicle1 = vehicle(\"BMW\", 200, 15)"
   ]
  },
  {
   "cell_type": "code",
   "execution_count": 5,
   "id": "f2f6e87a-acd8-485b-9894-cec9e060a4cf",
   "metadata": {},
   "outputs": [
    {
     "data": {
      "text/plain": [
       "15"
      ]
     },
     "execution_count": 5,
     "metadata": {},
     "output_type": "execute_result"
    }
   ],
   "source": [
    "vehicle1.average_of_vehicle"
   ]
  },
  {
   "cell_type": "code",
   "execution_count": 6,
   "id": "e38f3f45-6660-4f19-9e65-e29d64d71068",
   "metadata": {},
   "outputs": [
    {
     "data": {
      "text/plain": [
       "200"
      ]
     },
     "execution_count": 6,
     "metadata": {},
     "output_type": "execute_result"
    }
   ],
   "source": [
    "vehicle1.max_speed"
   ]
  },
  {
   "cell_type": "code",
   "execution_count": 7,
   "id": "f028b32d-692c-425e-b117-6f730b49b9cc",
   "metadata": {},
   "outputs": [
    {
     "data": {
      "text/plain": [
       "'BMW'"
      ]
     },
     "execution_count": 7,
     "metadata": {},
     "output_type": "execute_result"
    }
   ],
   "source": [
    "vehicle1.name_of_vehicle"
   ]
  },
  {
   "cell_type": "markdown",
   "id": "86a29a07-549e-45fd-a293-0d7407c6cb7a",
   "metadata": {},
   "source": [
    "## Q2. Create a child class car from the vehicle class created in Que 1, which will inherit the vehicle class. Create a method named seating_capacity which takes capacity as an argument and returns the name of the vehicle and its seating capacity."
   ]
  },
  {
   "cell_type": "code",
   "execution_count": 8,
   "id": "54299adf-b1ed-4c21-b832-b2516397b879",
   "metadata": {},
   "outputs": [],
   "source": [
    "class car(vehicle):\n",
    "    \n",
    "    def seating_capacity(self, capacity):\n",
    "        self.capacity = capacity\n",
    "        print (f\" Name of the vehicle is {self.name_of_vehicle} and the seating capacity is {self.capacity}\")"
   ]
  },
  {
   "cell_type": "code",
   "execution_count": 10,
   "id": "0038215d-4198-40e7-90dd-db09927bd744",
   "metadata": {},
   "outputs": [],
   "source": [
    "car1 = car(\"Audi\", 250, 25)"
   ]
  },
  {
   "cell_type": "code",
   "execution_count": 12,
   "id": "792c03db-e551-4b80-9ea4-73ac8d5f54da",
   "metadata": {},
   "outputs": [
    {
     "name": "stdout",
     "output_type": "stream",
     "text": [
      " Name of the vehicle is Audi and the seating capacity is 5\n"
     ]
    }
   ],
   "source": [
    "car1.seating_capacity(5)"
   ]
  },
  {
   "cell_type": "markdown",
   "id": "68b3a178-2fd3-495f-8ba4-afd3aaf32908",
   "metadata": {},
   "source": [
    "## Q3. What is multiple inheritance? Write a python code to demonstrate multiple inheritance."
   ]
  },
  {
   "cell_type": "markdown",
   "id": "9a9996cf-5c11-4ca8-877e-f2d8b49cc6eb",
   "metadata": {},
   "source": [
    "Multiple Inheritance is the type of inheritance where child class inherit the propoerties of two or more parent classes. "
   ]
  },
  {
   "cell_type": "code",
   "execution_count": 13,
   "id": "473cb362-b7a3-4377-8f8f-1f819dc4b225",
   "metadata": {},
   "outputs": [],
   "source": [
    "class grandparent:\n",
    "    \n",
    "    def grandparent_func(self):\n",
    "        print (\"this is the function defined in the grandparent class\")\n",
    "        \n",
    "class parent:\n",
    "\n",
    "    def parent_func(self):\n",
    "        print (\"this is the function defined in the parent class\")\n",
    "        \n",
    "class child:\n",
    "\n",
    "    def child_func(self):\n",
    "        print (\"this is the function defined in the child class\")"
   ]
  },
  {
   "cell_type": "code",
   "execution_count": 14,
   "id": "a8126a1c-12bb-4e05-8e51-b27292da8dad",
   "metadata": {},
   "outputs": [],
   "source": [
    "class all_generation(grandparent, parent, child):\n",
    "    \n",
    "    def all_gen(self):\n",
    "        print (\"this class consists all the generations\")"
   ]
  },
  {
   "cell_type": "code",
   "execution_count": 15,
   "id": "cad5e003-c3dd-48c5-8589-b3fda14b26e7",
   "metadata": {},
   "outputs": [],
   "source": [
    "all_gen1 = all_generation()"
   ]
  },
  {
   "cell_type": "code",
   "execution_count": 16,
   "id": "e84734da-3c3a-4f0f-a171-104af058b226",
   "metadata": {},
   "outputs": [
    {
     "name": "stdout",
     "output_type": "stream",
     "text": [
      "this class consists all the generations\n",
      "this is the function defined in the child class\n",
      "this is the function defined in the parent class\n",
      "this is the function defined in the grandparent class\n"
     ]
    }
   ],
   "source": [
    "all_gen1.all_gen()\n",
    "all_gen1.child_func()\n",
    "all_gen1.parent_func()\n",
    "all_gen1.grandparent_func()"
   ]
  },
  {
   "cell_type": "markdown",
   "id": "a1d9426e-adfd-4471-91ca-4c33f2bc6cd0",
   "metadata": {},
   "source": [
    "## Q4. What are getter and setter in python? Create a class and create a getter and a setter method in this class."
   ]
  },
  {
   "cell_type": "markdown",
   "id": "c63e8865-af6f-4417-8720-af6935104250",
   "metadata": {},
   "source": [
    "The primary use of getters and setters is to ensure the data encapsulation in object oriented programs. "
   ]
  },
  {
   "cell_type": "markdown",
   "id": "86544ed5-e962-47c8-9ab0-246c2e248084",
   "metadata": {},
   "source": [
    "## Getters and setters in python are often used when\n",
    "Getters and Setters are used during data validation logics for getting and setting the value.                   \n",
    "To avoid the direct access to private variables. To eliminate the modifications by the external user. "
   ]
  },
  {
   "cell_type": "markdown",
   "id": "e613ba59-de14-4cf6-9ed0-33ec3428d0a0",
   "metadata": {},
   "source": [
    "## Getters and setters methods in the class"
   ]
  },
  {
   "cell_type": "code",
   "execution_count": 1,
   "id": "283b9b30-4323-41dc-9c95-625d4b1821ca",
   "metadata": {},
   "outputs": [],
   "source": [
    "class name:\n",
    "    \n",
    "    def __init__(self, name='Basav'):\n",
    "        self.name = name\n",
    "    \n",
    "    #getter method\n",
    "    def get_name(self):\n",
    "        return self.name\n",
    "    \n",
    "    #setter method\n",
    "    def set_name(self, name):\n",
    "        self.name = name"
   ]
  },
  {
   "cell_type": "code",
   "execution_count": 2,
   "id": "50b0a8cb-b17c-41de-b0dd-c1ae563b64fb",
   "metadata": {},
   "outputs": [],
   "source": [
    "name1=name()"
   ]
  },
  {
   "cell_type": "code",
   "execution_count": 3,
   "id": "0b7463ca-e099-46c2-b541-561c562e7c00",
   "metadata": {},
   "outputs": [
    {
     "data": {
      "text/plain": [
       "'Basav'"
      ]
     },
     "execution_count": 3,
     "metadata": {},
     "output_type": "execute_result"
    }
   ],
   "source": [
    "name1.get_name()"
   ]
  },
  {
   "cell_type": "code",
   "execution_count": 4,
   "id": "427fc91d-f1ad-44a8-b9c1-bd6d65e00828",
   "metadata": {},
   "outputs": [],
   "source": [
    "name1.set_name('Gurav')"
   ]
  },
  {
   "cell_type": "code",
   "execution_count": 6,
   "id": "07ded1dc-5d80-4dd6-9766-9540cc1c7511",
   "metadata": {},
   "outputs": [
    {
     "data": {
      "text/plain": [
       "'Gurav'"
      ]
     },
     "execution_count": 6,
     "metadata": {},
     "output_type": "execute_result"
    }
   ],
   "source": [
    "name1.get_name()"
   ]
  },
  {
   "cell_type": "markdown",
   "id": "e91274ba-c27e-480e-abb5-1d56939f3609",
   "metadata": {},
   "source": [
    "## Q5.What is method overriding in python? Write a python code to demonstrate method overriding."
   ]
  },
  {
   "cell_type": "markdown",
   "id": "b4b35929-5cbd-4975-8010-439aefa0fb87",
   "metadata": {},
   "source": [
    "Method overriding is any ability of any object oriented programming language, that allows a child class to do a specific implementation of a method which is already provided by a one of its parent class. When a method in the subclass has the same name, same parameters and same return as a method in its parent class, then the method in the subclass is said to override the method in the parent class.  "
   ]
  },
  {
   "cell_type": "markdown",
   "id": "43fa0325-ca38-4eba-83a3-c5ee7ad32089",
   "metadata": {},
   "source": [
    "## Python code to demonstrate method overriding."
   ]
  },
  {
   "cell_type": "code",
   "execution_count": 7,
   "id": "6aafde2f-bd39-4d4f-b70a-ddc9e6ed0046",
   "metadata": {},
   "outputs": [],
   "source": [
    "class parent:\n",
    "    \n",
    "    def print_name(self):\n",
    "        print (\"this method is in parent class\")\n",
    "    def function2(self):\n",
    "        print (\"this is the function2 in parent class\")"
   ]
  },
  {
   "cell_type": "code",
   "execution_count": 8,
   "id": "fcc2d99e-2b1a-4943-af66-3a0c74f7be81",
   "metadata": {},
   "outputs": [],
   "source": [
    "class child(parent):\n",
    "    \n",
    "    def print_name(self):\n",
    "        print (\"this method is in child class\")\n",
    "    def function1(self):\n",
    "        print (\"this is the function1 in child class\")"
   ]
  },
  {
   "cell_type": "code",
   "execution_count": 9,
   "id": "681d932a-15ca-41a1-9921-76eabb3e0cf1",
   "metadata": {},
   "outputs": [],
   "source": [
    "child1 = child()"
   ]
  },
  {
   "cell_type": "markdown",
   "id": "66c24782-5394-4aa0-a0f9-ce37d6e4330b",
   "metadata": {},
   "source": [
    "### print_name method in the child class overdies the print_name method in the parent class. As shown below"
   ]
  },
  {
   "cell_type": "code",
   "execution_count": 11,
   "id": "3fa9eb28-6ece-434d-a0f4-cc635b11e99b",
   "metadata": {},
   "outputs": [
    {
     "name": "stdout",
     "output_type": "stream",
     "text": [
      "this method is in child class\n"
     ]
    }
   ],
   "source": [
    "child1.print_name()"
   ]
  }
 ],
 "metadata": {
  "kernelspec": {
   "display_name": "Python 3 (ipykernel)",
   "language": "python",
   "name": "python3"
  },
  "language_info": {
   "codemirror_mode": {
    "name": "ipython",
    "version": 3
   },
   "file_extension": ".py",
   "mimetype": "text/x-python",
   "name": "python",
   "nbconvert_exporter": "python",
   "pygments_lexer": "ipython3",
   "version": "3.10.8"
  }
 },
 "nbformat": 4,
 "nbformat_minor": 5
}
