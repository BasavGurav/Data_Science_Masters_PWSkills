{
 "cells": [
  {
   "cell_type": "markdown",
   "id": "dbe66ec4-7433-482d-9f97-e82e8939e9bd",
   "metadata": {},
   "source": [
    "# OOPS assignment "
   ]
  },
  {
   "cell_type": "markdown",
   "id": "5bb4646d-89bc-4d0a-b36d-bf237f13a4e8",
   "metadata": {},
   "source": [
    "## Q1. Explain Class and Object with respect to Object-Oriented Programming. Give a suitable example."
   ]
  },
  {
   "cell_type": "markdown",
   "id": "dc117670-07c2-4105-8ff0-b6c54dc81380",
   "metadata": {},
   "source": [
    "Object oriented programming is computer programming model that organizes software design around the data, or objects rather than functions and logic "
   ]
  },
  {
   "cell_type": "markdown",
   "id": "8934f15a-5ff9-45f4-a75e-3ba0d40fa022",
   "metadata": {},
   "source": [
    " ##  * Classes: \n",
    " These are the user defined data types that act has the blue print for individual objects, attibutes and methods"
   ]
  },
  {
   "cell_type": "markdown",
   "id": "acb05f09-a33f-4312-a399-084fdecda0c4",
   "metadata": {},
   "source": [
    "## Objects"
   ]
  },
  {
   "cell_type": "markdown",
   "id": "e689568a-a4c4-455c-a42f-81ac70d44b40",
   "metadata": {},
   "source": [
    "Objects are instances of a class created with specifically defined data. Objects can correspond to real world objects or an abstract entity. "
   ]
  },
  {
   "cell_type": "markdown",
   "id": "29747290-9cef-4083-bf5c-9e55796c615a",
   "metadata": {},
   "source": [
    "## Example "
   ]
  },
  {
   "cell_type": "markdown",
   "id": "103c0a79-89cb-4c3e-8e19-fb5852d1ed72",
   "metadata": {},
   "source": [
    "### In the below exp student is class and student1 is an object"
   ]
  },
  {
   "cell_type": "code",
   "execution_count": 4,
   "id": "2bc8469d-7ad0-4b16-8f27-951a70d2b048",
   "metadata": {},
   "outputs": [],
   "source": [
    "class student:\n",
    "    \n",
    "    def __init__(self, name, age):\n",
    "        self.name = name\n",
    "        self.age = age\n",
    "    def marks(self, marks1):\n",
    "        self.marks = marks1\n",
    "        print (f\" {self.name} of age {self.age} has got {self.marks}\") "
   ]
  },
  {
   "cell_type": "code",
   "execution_count": 6,
   "id": "328ab4f0-cf65-4754-ab5d-4fea7c451828",
   "metadata": {},
   "outputs": [],
   "source": [
    "student1= student('Basav', 15)"
   ]
  },
  {
   "cell_type": "code",
   "execution_count": 7,
   "id": "8ffd8bd0-4203-4195-95d1-36aed6f76ebd",
   "metadata": {},
   "outputs": [
    {
     "name": "stdout",
     "output_type": "stream",
     "text": [
      " Basav of age 15 has got 90\n"
     ]
    }
   ],
   "source": [
    "student1.marks(90)"
   ]
  },
  {
   "cell_type": "markdown",
   "id": "6938fb6f-b8f5-4b86-b1cf-1e4ebeae3e7c",
   "metadata": {},
   "source": [
    "# Q2. Name the four pillars of OOPs."
   ]
  },
  {
   "cell_type": "markdown",
   "id": "3583a8b8-5e28-40c0-b38c-134ebb0d2362",
   "metadata": {},
   "source": [
    "1) Abstraction\n",
    "2) Encapsulation\n",
    "3) Inheritance\n",
    "4) Polymorphism"
   ]
  },
  {
   "cell_type": "markdown",
   "id": "935a8d42-2e60-45f2-ad64-3f4352f93136",
   "metadata": {},
   "source": [
    "# Q3. Explain why the __init__() function is used. Give a suitable example."
   ]
  },
  {
   "cell_type": "markdown",
   "id": "92de1a30-f304-4b0d-bdfb-4c7528fb3f9f",
   "metadata": {},
   "source": [
    "## init()"
   ]
  },
  {
   "cell_type": "markdown",
   "id": "ecd251f8-2d3e-45b3-b9b6-7a3c2be84b1f",
   "metadata": {},
   "source": [
    "__init__() function is the constructor. It's a special method, program calls upon this once the object is created.\n",
    "Constructors are used in the class to intialize data members to the obejct. "
   ]
  },
  {
   "cell_type": "markdown",
   "id": "ecc8361b-2730-464e-855d-951cfeaf10d6",
   "metadata": {},
   "source": [
    "In the below example __init__() method is used to assign the name and age to the attributes of the class"
   ]
  },
  {
   "cell_type": "code",
   "execution_count": 15,
   "id": "7ee9f4c3-bd79-42cc-a5b1-c2a37f9ba67d",
   "metadata": {},
   "outputs": [],
   "source": [
    "class student:\n",
    "    \n",
    "    def __init__(self, name, age):\n",
    "        self.name = name\n",
    "        self.age = age\n",
    "    def marks(self, marks1):\n",
    "        self.marks = marks1\n",
    "        print (f\" {self.name} of age {self.age} has got {self.marks} marks\") "
   ]
  },
  {
   "cell_type": "code",
   "execution_count": 16,
   "id": "c140b55c-891d-44cf-98fc-9f9e9ee36e1d",
   "metadata": {},
   "outputs": [],
   "source": [
    "student2 = student('pwskills', 99)"
   ]
  },
  {
   "cell_type": "code",
   "execution_count": 17,
   "id": "042bc453-7a9d-4e31-8a5e-f267ab94da24",
   "metadata": {},
   "outputs": [
    {
     "name": "stdout",
     "output_type": "stream",
     "text": [
      " pwskills of age 99 has got 100 marks\n"
     ]
    }
   ],
   "source": [
    "student2.marks(100)"
   ]
  },
  {
   "cell_type": "markdown",
   "id": "c157defb-a875-4a5e-8217-c30e5a67cf33",
   "metadata": {},
   "source": [
    "# Q4. Why self is used in OOPs?"
   ]
  },
  {
   "cell_type": "markdown",
   "id": "04c22333-1ff4-4284-a80d-5098eb03f066",
   "metadata": {},
   "source": [
    "self reprents the instance of the class. By using the self we can access the attributes and methods of the class in python. \n",
    "It binds the attributes with the given arguments. "
   ]
  },
  {
   "cell_type": "markdown",
   "id": "b463754c-73d0-4ba0-b16c-64767760ac2b",
   "metadata": {},
   "source": [
    "## Q5. What is inheritance? Give an example for each type of inheritance."
   ]
  },
  {
   "cell_type": "markdown",
   "id": "a172d034-a14a-4554-854e-ae74eb9aed2b",
   "metadata": {},
   "source": [
    "Inheritance is defined as the mechanism of inheriting the properties of base class to the child class"
   ]
  },
  {
   "cell_type": "markdown",
   "id": "79d5d5bc-4ed6-4319-a905-80b5861986e5",
   "metadata": {},
   "source": [
    "Types of inheritance in python                                  \n",
    "Single inheritance                                     \n",
    "Multiple inheritance                                         \n",
    "Multi level inheritance"
   ]
  },
  {
   "cell_type": "code",
   "execution_count": 6,
   "id": "cb22d91a-f101-4c50-b237-37b38e766aee",
   "metadata": {},
   "outputs": [],
   "source": [
    "class grandparent:\n",
    "    \n",
    "    def grandparent_func(self):\n",
    "        print (\"this is the function defined in the grandparent class\")\n",
    "        \n",
    "class parent:\n",
    "\n",
    "    def parent_func(self):\n",
    "        print (\"this is the function defined in the parent class\")\n",
    "        \n",
    "class child:\n",
    "\n",
    "    def child_func(self):\n",
    "        print (\"this is the function defined in the child class\")"
   ]
  },
  {
   "cell_type": "markdown",
   "id": "4d07fd83-44dd-413a-a5bf-dce158495427",
   "metadata": {},
   "source": [
    "## Single Inheritance"
   ]
  },
  {
   "cell_type": "code",
   "execution_count": 10,
   "id": "c64e36d5-737a-457d-9450-55218fd116a2",
   "metadata": {},
   "outputs": [],
   "source": [
    "class parent(grandparent):\n",
    "\n",
    "    def parent_func(self):\n",
    "        print (\"this is the function defined in the parent class\")"
   ]
  },
  {
   "cell_type": "code",
   "execution_count": 12,
   "id": "045dbff3-390b-421b-a9bc-19c06b37d7e7",
   "metadata": {},
   "outputs": [],
   "source": [
    "parent1 = parent()"
   ]
  },
  {
   "cell_type": "code",
   "execution_count": 14,
   "id": "0535e1b1-face-4f65-a4ce-fdd0b093cb87",
   "metadata": {},
   "outputs": [
    {
     "name": "stdout",
     "output_type": "stream",
     "text": [
      "this is the function defined in the parent class\n"
     ]
    }
   ],
   "source": [
    "parent1.parent_func()"
   ]
  },
  {
   "cell_type": "code",
   "execution_count": 15,
   "id": "da597709-1d94-4e4e-b13f-27db673a5d9e",
   "metadata": {},
   "outputs": [
    {
     "name": "stdout",
     "output_type": "stream",
     "text": [
      "this is the function defined in the grandparent class\n"
     ]
    }
   ],
   "source": [
    "parent1.grandparent_func()"
   ]
  },
  {
   "cell_type": "markdown",
   "id": "5e9ebaae-9f41-4b47-9a94-8c41bf333c80",
   "metadata": {},
   "source": [
    "## Multilevel Inheritance"
   ]
  },
  {
   "cell_type": "code",
   "execution_count": 16,
   "id": "f95bb093-d246-4d00-ab9e-d91a3e9f7ca8",
   "metadata": {},
   "outputs": [],
   "source": [
    "class parent(grandparent):\n",
    "\n",
    "    def parent_func(self):\n",
    "        print (\"this is the function defined in the parent class\")"
   ]
  },
  {
   "cell_type": "code",
   "execution_count": 17,
   "id": "968f1e6e-9d14-4aa5-af4c-2ff115aac1ee",
   "metadata": {},
   "outputs": [],
   "source": [
    "class child(parent):\n",
    "\n",
    "    def child_func(self):\n",
    "        print (\"this is the function defined in the child class\")"
   ]
  },
  {
   "cell_type": "code",
   "execution_count": 18,
   "id": "55a9d448-326c-4eb5-8bfe-c882bc2e7043",
   "metadata": {},
   "outputs": [],
   "source": [
    "child1 = child()"
   ]
  },
  {
   "cell_type": "code",
   "execution_count": 19,
   "id": "4befd67c-4324-42f5-8776-f00b75be8f47",
   "metadata": {},
   "outputs": [
    {
     "name": "stdout",
     "output_type": "stream",
     "text": [
      "this is the function defined in the child class\n"
     ]
    }
   ],
   "source": [
    "child1.child_func()"
   ]
  },
  {
   "cell_type": "code",
   "execution_count": 20,
   "id": "e9b0fb1b-eb36-4a7c-abbe-711d3edd4ae0",
   "metadata": {},
   "outputs": [
    {
     "name": "stdout",
     "output_type": "stream",
     "text": [
      "this is the function defined in the parent class\n"
     ]
    }
   ],
   "source": [
    "child1.parent_func()"
   ]
  },
  {
   "cell_type": "code",
   "execution_count": 21,
   "id": "4c36cf3d-f750-489e-b095-86eb59bd549f",
   "metadata": {},
   "outputs": [
    {
     "name": "stdout",
     "output_type": "stream",
     "text": [
      "this is the function defined in the grandparent class\n"
     ]
    }
   ],
   "source": [
    "child1.grandparent_func()"
   ]
  },
  {
   "cell_type": "markdown",
   "id": "ec539b17-3290-4185-9529-efd28d15b87d",
   "metadata": {},
   "source": [
    "## Multiple Inheritance"
   ]
  },
  {
   "cell_type": "code",
   "execution_count": 23,
   "id": "9d099fc4-2745-4685-823a-7111429608d4",
   "metadata": {},
   "outputs": [],
   "source": [
    "class grandparent:\n",
    "    \n",
    "    def grandparent_func(self):\n",
    "        print (\"this is the function defined in the grandparent class\")\n",
    "        \n",
    "class parent:\n",
    "\n",
    "    def parent_func(self):\n",
    "        print (\"this is the function defined in the parent class\")\n",
    "        \n",
    "class child:\n",
    "\n",
    "    def child_func(self):\n",
    "        print (\"this is the function defined in the child class\")"
   ]
  },
  {
   "cell_type": "code",
   "execution_count": 24,
   "id": "1e81fd2b-1ecf-4703-974a-5714c6a55b4e",
   "metadata": {},
   "outputs": [],
   "source": [
    "class all_generation(grandparent, parent, child):\n",
    "    \n",
    "    def all_gen(self):\n",
    "        print (\"this class consists all the generations\")"
   ]
  },
  {
   "cell_type": "code",
   "execution_count": 25,
   "id": "3c77f92e-51d8-4541-be0d-69e8f3888d14",
   "metadata": {},
   "outputs": [],
   "source": [
    "all_gen1 = all_generation()"
   ]
  },
  {
   "cell_type": "code",
   "execution_count": 26,
   "id": "8aaf0d61-6cac-467b-819a-b1331c06e9bd",
   "metadata": {},
   "outputs": [
    {
     "name": "stdout",
     "output_type": "stream",
     "text": [
      "this class consists all the generations\n",
      "this is the function defined in the child class\n",
      "this is the function defined in the parent class\n",
      "this is the function defined in the grandparent class\n"
     ]
    }
   ],
   "source": [
    "all_gen1.all_gen()\n",
    "all_gen1.child_func()\n",
    "all_gen1.parent_func()\n",
    "all_gen1.grandparent_func()"
   ]
  },
  {
   "cell_type": "code",
   "execution_count": null,
   "id": "3f2caf2f-7b5f-4a92-9e22-b2e383da00f2",
   "metadata": {},
   "outputs": [],
   "source": []
  }
 ],
 "metadata": {
  "kernelspec": {
   "display_name": "Python 3 (ipykernel)",
   "language": "python",
   "name": "python3"
  },
  "language_info": {
   "codemirror_mode": {
    "name": "ipython",
    "version": 3
   },
   "file_extension": ".py",
   "mimetype": "text/x-python",
   "name": "python",
   "nbconvert_exporter": "python",
   "pygments_lexer": "ipython3",
   "version": "3.10.8"
  }
 },
 "nbformat": 4,
 "nbformat_minor": 5
}
